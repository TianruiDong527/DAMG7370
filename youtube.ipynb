{
 "cells": [
  {
   "cell_type": "code",
   "execution_count": 1,
   "metadata": {},
   "outputs": [
    {
     "name": "stdout",
     "output_type": "stream",
     "text": [
      "Collecting vaderSentiment\n",
      "  Downloading vaderSentiment-3.3.2-py2.py3-none-any.whl.metadata (572 bytes)\n",
      "Requirement already satisfied: requests in /system/conda/miniconda3/envs/cloudspace/lib/python3.10/site-packages (from vaderSentiment) (2.32.3)\n",
      "Requirement already satisfied: charset-normalizer<4,>=2 in /system/conda/miniconda3/envs/cloudspace/lib/python3.10/site-packages (from requests->vaderSentiment) (3.4.1)\n",
      "Requirement already satisfied: idna<4,>=2.5 in /system/conda/miniconda3/envs/cloudspace/lib/python3.10/site-packages (from requests->vaderSentiment) (3.10)\n",
      "Requirement already satisfied: urllib3<3,>=1.21.1 in /system/conda/miniconda3/envs/cloudspace/lib/python3.10/site-packages (from requests->vaderSentiment) (2.3.0)\n",
      "Requirement already satisfied: certifi>=2017.4.17 in /system/conda/miniconda3/envs/cloudspace/lib/python3.10/site-packages (from requests->vaderSentiment) (2025.1.31)\n",
      "Downloading vaderSentiment-3.3.2-py2.py3-none-any.whl (125 kB)\n",
      "Installing collected packages: vaderSentiment\n",
      "Successfully installed vaderSentiment-3.3.2\n"
     ]
    }
   ],
   "source": [
    "#!pip install vaderSentiment\n",
    "#!pip install -U sentence-transformers"
   ]
  },
  {
   "cell_type": "code",
   "execution_count": 2,
   "metadata": {},
   "outputs": [
    {
     "name": "stdout",
     "output_type": "stream",
     "text": [
      "Text: I absolutely love this video! It's so inspiring and well-made :)\n",
      "VADER Scores: {'neg': 0.0, 'neu': 0.412, 'pos': 0.588, 'compound': 0.9081}\n",
      "Overall Sentiment: Positive 😊\n"
     ]
    }
   ],
   "source": [
    "from vaderSentiment.vaderSentiment import SentimentIntensityAnalyzer\n",
    "\n",
    "analyzer = SentimentIntensityAnalyzer()\n",
    "\n",
    "# input sample\n",
    "text = \"I absolutely love this video! It's so inspiring and well-made :)\"\n",
    "\n",
    "# get score\n",
    "scores = analyzer.polarity_scores(text)\n",
    "\n",
    "# output score\n",
    "print(\"Text:\", text)\n",
    "print(\"VADER Scores:\", scores)\n",
    "\n",
    "# classify by compound \n",
    "compound = scores['compound']\n",
    "if compound >= 0.05:\n",
    "    sentiment = \"Positive 😊\"\n",
    "elif compound <= -0.05:\n",
    "    sentiment = \"Negative 😠\"\n",
    "else:\n",
    "    sentiment = \"Neutral 😐\"\n",
    "\n",
    "print(\"Overall Sentiment:\", sentiment)"
   ]
  },
  {
   "cell_type": "code",
   "execution_count": null,
   "metadata": {},
   "outputs": [
    {
     "data": {
      "text/html": [
       "<div>\n",
       "<style scoped>\n",
       "    .dataframe tbody tr th:only-of-type {\n",
       "        vertical-align: middle;\n",
       "    }\n",
       "\n",
       "    .dataframe tbody tr th {\n",
       "        vertical-align: top;\n",
       "    }\n",
       "\n",
       "    .dataframe thead th {\n",
       "        text-align: right;\n",
       "    }\n",
       "</style>\n",
       "<table border=\"1\" class=\"dataframe\">\n",
       "  <thead>\n",
       "    <tr style=\"text-align: right;\">\n",
       "      <th></th>\n",
       "      <th>title</th>\n",
       "      <th>title_compound</th>\n",
       "      <th>description_compound</th>\n",
       "      <th>tags</th>\n",
       "    </tr>\n",
       "  </thead>\n",
       "  <tbody>\n",
       "    <tr>\n",
       "      <th>0</th>\n",
       "      <td>Eminem - Walk On Water (Audio) ft. Beyoncé</td>\n",
       "      <td>0.0000</td>\n",
       "      <td>0.6369</td>\n",
       "      <td>[Eminem, \"Walk\", \"On\", \"Water\", \"Aftermath/Sha...</td>\n",
       "    </tr>\n",
       "    <tr>\n",
       "      <th>1</th>\n",
       "      <td>PLUSH - Bad Unboxing Fan Mail</td>\n",
       "      <td>-0.2960</td>\n",
       "      <td>0.7783</td>\n",
       "      <td>[plush, \"bad unboxing\", \"unboxing\", \"fan mail\"...</td>\n",
       "    </tr>\n",
       "    <tr>\n",
       "      <th>2</th>\n",
       "      <td>Racist Superman | Rudy Mancuso, King Bach &amp; Le...</td>\n",
       "      <td>-0.6124</td>\n",
       "      <td>0.7365</td>\n",
       "      <td>[racist superman, \"rudy\", \"mancuso\", \"king\", \"...</td>\n",
       "    </tr>\n",
       "    <tr>\n",
       "      <th>3</th>\n",
       "      <td>I Dare You: GOING BALD!?</td>\n",
       "      <td>0.0000</td>\n",
       "      <td>0.9290</td>\n",
       "      <td>[ryan, \"higa\", \"higatv\", \"nigahiga\", \"i dare y...</td>\n",
       "    </tr>\n",
       "    <tr>\n",
       "      <th>4</th>\n",
       "      <td>Ed Sheeran - Perfect (Official Music Video)</td>\n",
       "      <td>0.5719</td>\n",
       "      <td>0.4404</td>\n",
       "      <td>[edsheeran, \"ed sheeran\", \"acoustic\", \"live\", ...</td>\n",
       "    </tr>\n",
       "  </tbody>\n",
       "</table>\n",
       "</div>"
      ],
      "text/plain": [
       "                                               title  title_compound  \\\n",
       "0         Eminem - Walk On Water (Audio) ft. Beyoncé          0.0000   \n",
       "1                      PLUSH - Bad Unboxing Fan Mail         -0.2960   \n",
       "2  Racist Superman | Rudy Mancuso, King Bach & Le...         -0.6124   \n",
       "3                           I Dare You: GOING BALD!?          0.0000   \n",
       "4        Ed Sheeran - Perfect (Official Music Video)          0.5719   \n",
       "\n",
       "   description_compound                                               tags  \n",
       "0                0.6369  [Eminem, \"Walk\", \"On\", \"Water\", \"Aftermath/Sha...  \n",
       "1                0.7783  [plush, \"bad unboxing\", \"unboxing\", \"fan mail\"...  \n",
       "2                0.7365  [racist superman, \"rudy\", \"mancuso\", \"king\", \"...  \n",
       "3                0.9290  [ryan, \"higa\", \"higatv\", \"nigahiga\", \"i dare y...  \n",
       "4                0.4404  [edsheeran, \"ed sheeran\", \"acoustic\", \"live\", ...  "
      ]
     },
     "execution_count": 12,
     "metadata": {},
     "output_type": "execute_result"
    }
   ],
   "source": [
    "import pandas as pd\n",
    "from vaderSentiment.vaderSentiment import SentimentIntensityAnalyzer\n",
    "\n",
    "# read CSV\n",
    "df = pd.read_csv(\"CAvideos.csv\")\n",
    "\n",
    "# initialize Vader\n",
    "analyzer = SentimentIntensityAnalyzer()\n",
    "\n",
    "# add new cols\n",
    "df['title_compound'] = 0.0\n",
    "df['description_compound'] = 0.0\n",
    "\n",
    "for i in range(len(df)):\n",
    "    # Title \n",
    "    title = str(df.loc[i, 'title'])\n",
    "    title_score = analyzer.polarity_scores(title)\n",
    "    df.loc[i, 'title_compound'] = title_score['compound']\n",
    "\n",
    "    # Description \n",
    "    description = str(df.loc[i, 'description'])\n",
    "    desc_score = analyzer.polarity_scores(description)\n",
    "    df.loc[i, 'description_compound'] = desc_score['compound']\n",
    "\n",
    "# tags str to list\n",
    "df['tags'] = df['tags'].astype(str).apply(lambda x: x.split('|'))\n",
    "\n",
    "df[['title', 'title_compound', 'description_compound', 'tags']].head()"
   ]
  },
  {
   "cell_type": "code",
   "execution_count": 15,
   "metadata": {},
   "outputs": [
    {
     "data": {
      "application/vnd.jupyter.widget-view+json": {
       "model_id": "8afbd98e91e44f29a86288693e52566f",
       "version_major": 2,
       "version_minor": 0
      },
      "text/plain": [
       "modules.json:   0%|          | 0.00/349 [00:00<?, ?B/s]"
      ]
     },
     "metadata": {},
     "output_type": "display_data"
    },
    {
     "data": {
      "application/vnd.jupyter.widget-view+json": {
       "model_id": "c067322590824a31ac8bdecbe13c36ef",
       "version_major": 2,
       "version_minor": 0
      },
      "text/plain": [
       "config_sentence_transformers.json:   0%|          | 0.00/116 [00:00<?, ?B/s]"
      ]
     },
     "metadata": {},
     "output_type": "display_data"
    },
    {
     "data": {
      "application/vnd.jupyter.widget-view+json": {
       "model_id": "3f8348d6672b4741bb3b8fa7734e7f52",
       "version_major": 2,
       "version_minor": 0
      },
      "text/plain": [
       "README.md:   0%|          | 0.00/10.5k [00:00<?, ?B/s]"
      ]
     },
     "metadata": {},
     "output_type": "display_data"
    },
    {
     "data": {
      "application/vnd.jupyter.widget-view+json": {
       "model_id": "c70b7ad6b7664fb38703bc83a59b07e9",
       "version_major": 2,
       "version_minor": 0
      },
      "text/plain": [
       "sentence_bert_config.json:   0%|          | 0.00/53.0 [00:00<?, ?B/s]"
      ]
     },
     "metadata": {},
     "output_type": "display_data"
    },
    {
     "data": {
      "application/vnd.jupyter.widget-view+json": {
       "model_id": "dba940ddb43d487bb74d269920cb17b9",
       "version_major": 2,
       "version_minor": 0
      },
      "text/plain": [
       "config.json:   0%|          | 0.00/612 [00:00<?, ?B/s]"
      ]
     },
     "metadata": {},
     "output_type": "display_data"
    },
    {
     "data": {
      "application/vnd.jupyter.widget-view+json": {
       "model_id": "90ff640b0fcf4b10a45a7a88541dc63d",
       "version_major": 2,
       "version_minor": 0
      },
      "text/plain": [
       "model.safetensors:   0%|          | 0.00/90.9M [00:00<?, ?B/s]"
      ]
     },
     "metadata": {},
     "output_type": "display_data"
    },
    {
     "data": {
      "application/vnd.jupyter.widget-view+json": {
       "model_id": "abc21cd8dd8748e4bb930043e9da085d",
       "version_major": 2,
       "version_minor": 0
      },
      "text/plain": [
       "tokenizer_config.json:   0%|          | 0.00/350 [00:00<?, ?B/s]"
      ]
     },
     "metadata": {},
     "output_type": "display_data"
    },
    {
     "data": {
      "application/vnd.jupyter.widget-view+json": {
       "model_id": "a0a6e262f3774bb98d6e880c04938019",
       "version_major": 2,
       "version_minor": 0
      },
      "text/plain": [
       "vocab.txt:   0%|          | 0.00/232k [00:00<?, ?B/s]"
      ]
     },
     "metadata": {},
     "output_type": "display_data"
    },
    {
     "data": {
      "application/vnd.jupyter.widget-view+json": {
       "model_id": "a3473d2f86c94f4e87c4fc8e881545db",
       "version_major": 2,
       "version_minor": 0
      },
      "text/plain": [
       "tokenizer.json:   0%|          | 0.00/466k [00:00<?, ?B/s]"
      ]
     },
     "metadata": {},
     "output_type": "display_data"
    },
    {
     "data": {
      "application/vnd.jupyter.widget-view+json": {
       "model_id": "50682932032f48e6a2878104263601e3",
       "version_major": 2,
       "version_minor": 0
      },
      "text/plain": [
       "special_tokens_map.json:   0%|          | 0.00/112 [00:00<?, ?B/s]"
      ]
     },
     "metadata": {},
     "output_type": "display_data"
    },
    {
     "data": {
      "application/vnd.jupyter.widget-view+json": {
       "model_id": "e0d7d6f8f6cf4f1d8f4f69072e1ab565",
       "version_major": 2,
       "version_minor": 0
      },
      "text/plain": [
       "config.json:   0%|          | 0.00/190 [00:00<?, ?B/s]"
      ]
     },
     "metadata": {},
     "output_type": "display_data"
    },
    {
     "data": {
      "application/vnd.jupyter.widget-view+json": {
       "model_id": "e4e1fb16dc67445f8c7f737cdafc4811",
       "version_major": 2,
       "version_minor": 0
      },
      "text/plain": [
       "Batches:   0%|          | 0/1278 [00:00<?, ?it/s]"
      ]
     },
     "metadata": {},
     "output_type": "display_data"
    },
    {
     "data": {
      "application/vnd.jupyter.widget-view+json": {
       "model_id": "c73d229786854d859d116f6f9afc6369",
       "version_major": 2,
       "version_minor": 0
      },
      "text/plain": [
       "Batches:   0%|          | 0/1278 [00:00<?, ?it/s]"
      ]
     },
     "metadata": {},
     "output_type": "display_data"
    },
    {
     "name": "stdout",
     "output_type": "stream",
     "text": [
      "                                        title  \\\n",
      "0  Eminem - Walk On Water (Audio) ft. Beyoncé   \n",
      "1               PLUSH - Bad Unboxing Fan Mail   \n",
      "\n",
      "                                     title_embedding  \\\n",
      "0  [-0.06277154, -0.04639821, 0.048019543, 0.0320...   \n",
      "1  [-0.036631104, -0.0015310794, 0.110469095, -0....   \n",
      "\n",
      "                               description_embedding  \n",
      "0  [-0.04607288, -0.13656281, 0.06220317, -0.0064...  \n",
      "1  [-0.10279074, -0.13369378, 0.041275885, -0.114...  \n"
     ]
    }
   ],
   "source": [
    "import pandas as pd\n",
    "from sentence_transformers import SentenceTransformer\n",
    "from tqdm import tqdm\n",
    "\n",
    "# load Sentence-BERT model\n",
    "model = SentenceTransformer('all-MiniLM-L6-v2')  # dimension =  384\n",
    "\n",
    "# make sure str format\n",
    "df['title'] = df['title'].astype(str)\n",
    "df['description'] = df['description'].astype(str)\n",
    "\n",
    "# embedding \n",
    "title_embeddings = model.encode(df['title'].tolist(), show_progress_bar=True)\n",
    "desc_embeddings = model.encode(df['description'].tolist(), show_progress_bar=True)\n",
    "\n",
    "# add to df\n",
    "df['title_embedding'] = list(title_embeddings)\n",
    "df['description_embedding'] = list(desc_embeddings)\n",
    "\n",
    "print(df[['title', 'title_embedding', 'description_embedding']].head(2))"
   ]
  },
  {
   "cell_type": "code",
   "execution_count": 16,
   "metadata": {},
   "outputs": [],
   "source": [
    "import ast\n",
    "\n",
    "# turn embedding vector to str for csv to store \"[0.1, 0.2, 0.3, ...]\"）\n",
    "df['title_embedding'] = df['title_embedding'].apply(lambda x: str(x))\n",
    "df['description_embedding'] = df['description_embedding'].apply(lambda x: str(x))\n",
    "\n",
    "# save to new CSV file\n",
    "df.to_csv(\"CAVideos_with_embeddings.csv\", index=False)"
   ]
  },
  {
   "cell_type": "code",
   "execution_count": 17,
   "metadata": {},
   "outputs": [
    {
     "data": {
      "text/html": [
       "<div>\n",
       "<style scoped>\n",
       "    .dataframe tbody tr th:only-of-type {\n",
       "        vertical-align: middle;\n",
       "    }\n",
       "\n",
       "    .dataframe tbody tr th {\n",
       "        vertical-align: top;\n",
       "    }\n",
       "\n",
       "    .dataframe thead th {\n",
       "        text-align: right;\n",
       "    }\n",
       "</style>\n",
       "<table border=\"1\" class=\"dataframe\">\n",
       "  <thead>\n",
       "    <tr style=\"text-align: right;\">\n",
       "      <th></th>\n",
       "      <th>video_id</th>\n",
       "      <th>trending_date</th>\n",
       "      <th>title</th>\n",
       "      <th>channel_title</th>\n",
       "      <th>category_id</th>\n",
       "      <th>publish_time</th>\n",
       "      <th>tags</th>\n",
       "      <th>views</th>\n",
       "      <th>likes</th>\n",
       "      <th>dislikes</th>\n",
       "      <th>comment_count</th>\n",
       "      <th>thumbnail_link</th>\n",
       "      <th>comments_disabled</th>\n",
       "      <th>ratings_disabled</th>\n",
       "      <th>video_error_or_removed</th>\n",
       "      <th>description</th>\n",
       "      <th>title_compound</th>\n",
       "      <th>description_compound</th>\n",
       "      <th>title_embedding</th>\n",
       "      <th>description_embedding</th>\n",
       "    </tr>\n",
       "  </thead>\n",
       "  <tbody>\n",
       "    <tr>\n",
       "      <th>0</th>\n",
       "      <td>n1WpP7iowLc</td>\n",
       "      <td>17.14.11</td>\n",
       "      <td>Eminem - Walk On Water (Audio) ft. Beyoncé</td>\n",
       "      <td>EminemVEVO</td>\n",
       "      <td>10</td>\n",
       "      <td>2017-11-10T17:00:03.000Z</td>\n",
       "      <td>[Eminem, \"Walk\", \"On\", \"Water\", \"Aftermath/Sha...</td>\n",
       "      <td>17158579</td>\n",
       "      <td>787425</td>\n",
       "      <td>43420</td>\n",
       "      <td>125882</td>\n",
       "      <td>https://i.ytimg.com/vi/n1WpP7iowLc/default.jpg</td>\n",
       "      <td>False</td>\n",
       "      <td>False</td>\n",
       "      <td>False</td>\n",
       "      <td>Eminem's new track Walk on Water ft. Beyoncé i...</td>\n",
       "      <td>0.0000</td>\n",
       "      <td>0.6369</td>\n",
       "      <td>[-6.27715364e-02 -4.63982113e-02  4.80195433e-...</td>\n",
       "      <td>[-4.60728817e-02 -1.36562809e-01  6.22031689e-...</td>\n",
       "    </tr>\n",
       "    <tr>\n",
       "      <th>1</th>\n",
       "      <td>0dBIkQ4Mz1M</td>\n",
       "      <td>17.14.11</td>\n",
       "      <td>PLUSH - Bad Unboxing Fan Mail</td>\n",
       "      <td>iDubbbzTV</td>\n",
       "      <td>23</td>\n",
       "      <td>2017-11-13T17:00:00.000Z</td>\n",
       "      <td>[plush, \"bad unboxing\", \"unboxing\", \"fan mail\"...</td>\n",
       "      <td>1014651</td>\n",
       "      <td>127794</td>\n",
       "      <td>1688</td>\n",
       "      <td>13030</td>\n",
       "      <td>https://i.ytimg.com/vi/0dBIkQ4Mz1M/default.jpg</td>\n",
       "      <td>False</td>\n",
       "      <td>False</td>\n",
       "      <td>False</td>\n",
       "      <td>STill got a lot of packages. Probably will las...</td>\n",
       "      <td>-0.2960</td>\n",
       "      <td>0.7783</td>\n",
       "      <td>[-3.66311036e-02 -1.53107941e-03  1.10469095e-...</td>\n",
       "      <td>[-1.02790743e-01 -1.33693784e-01  4.12758850e-...</td>\n",
       "    </tr>\n",
       "    <tr>\n",
       "      <th>2</th>\n",
       "      <td>5qpjK5DgCt4</td>\n",
       "      <td>17.14.11</td>\n",
       "      <td>Racist Superman | Rudy Mancuso, King Bach &amp; Le...</td>\n",
       "      <td>Rudy Mancuso</td>\n",
       "      <td>23</td>\n",
       "      <td>2017-11-12T19:05:24.000Z</td>\n",
       "      <td>[racist superman, \"rudy\", \"mancuso\", \"king\", \"...</td>\n",
       "      <td>3191434</td>\n",
       "      <td>146035</td>\n",
       "      <td>5339</td>\n",
       "      <td>8181</td>\n",
       "      <td>https://i.ytimg.com/vi/5qpjK5DgCt4/default.jpg</td>\n",
       "      <td>False</td>\n",
       "      <td>False</td>\n",
       "      <td>False</td>\n",
       "      <td>WATCH MY PREVIOUS VIDEO ▶ \\n\\nSUBSCRIBE ► http...</td>\n",
       "      <td>-0.6124</td>\n",
       "      <td>0.7365</td>\n",
       "      <td>[-1.01845309e-01 -2.69313413e-03 -1.27036691e-...</td>\n",
       "      <td>[-1.19398125e-01 -1.17875852e-01 -7.25160632e-...</td>\n",
       "    </tr>\n",
       "    <tr>\n",
       "      <th>3</th>\n",
       "      <td>d380meD0W0M</td>\n",
       "      <td>17.14.11</td>\n",
       "      <td>I Dare You: GOING BALD!?</td>\n",
       "      <td>nigahiga</td>\n",
       "      <td>24</td>\n",
       "      <td>2017-11-12T18:01:41.000Z</td>\n",
       "      <td>[ryan, \"higa\", \"higatv\", \"nigahiga\", \"i dare y...</td>\n",
       "      <td>2095828</td>\n",
       "      <td>132239</td>\n",
       "      <td>1989</td>\n",
       "      <td>17518</td>\n",
       "      <td>https://i.ytimg.com/vi/d380meD0W0M/default.jpg</td>\n",
       "      <td>False</td>\n",
       "      <td>False</td>\n",
       "      <td>False</td>\n",
       "      <td>I know it's been a while since we did this sho...</td>\n",
       "      <td>0.0000</td>\n",
       "      <td>0.9290</td>\n",
       "      <td>[-2.44291220e-02  3.73215340e-02  6.12568110e-...</td>\n",
       "      <td>[-1.42253369e-01 -2.20152866e-02 -6.84852079e-...</td>\n",
       "    </tr>\n",
       "    <tr>\n",
       "      <th>4</th>\n",
       "      <td>2Vv-BfVoq4g</td>\n",
       "      <td>17.14.11</td>\n",
       "      <td>Ed Sheeran - Perfect (Official Music Video)</td>\n",
       "      <td>Ed Sheeran</td>\n",
       "      <td>10</td>\n",
       "      <td>2017-11-09T11:04:14.000Z</td>\n",
       "      <td>[edsheeran, \"ed sheeran\", \"acoustic\", \"live\", ...</td>\n",
       "      <td>33523622</td>\n",
       "      <td>1634130</td>\n",
       "      <td>21082</td>\n",
       "      <td>85067</td>\n",
       "      <td>https://i.ytimg.com/vi/2Vv-BfVoq4g/default.jpg</td>\n",
       "      <td>False</td>\n",
       "      <td>False</td>\n",
       "      <td>False</td>\n",
       "      <td>🎧: https://ad.gt/yt-perfect\\n💰: https://atlant...</td>\n",
       "      <td>0.5719</td>\n",
       "      <td>0.4404</td>\n",
       "      <td>[-1.84795614e-02  2.95374449e-03  1.03636540e-...</td>\n",
       "      <td>[-1.37768984e-01 -2.78132148e-02  4.75002490e-...</td>\n",
       "    </tr>\n",
       "  </tbody>\n",
       "</table>\n",
       "</div>"
      ],
      "text/plain": [
       "      video_id trending_date  \\\n",
       "0  n1WpP7iowLc      17.14.11   \n",
       "1  0dBIkQ4Mz1M      17.14.11   \n",
       "2  5qpjK5DgCt4      17.14.11   \n",
       "3  d380meD0W0M      17.14.11   \n",
       "4  2Vv-BfVoq4g      17.14.11   \n",
       "\n",
       "                                               title channel_title  \\\n",
       "0         Eminem - Walk On Water (Audio) ft. Beyoncé    EminemVEVO   \n",
       "1                      PLUSH - Bad Unboxing Fan Mail     iDubbbzTV   \n",
       "2  Racist Superman | Rudy Mancuso, King Bach & Le...  Rudy Mancuso   \n",
       "3                           I Dare You: GOING BALD!?      nigahiga   \n",
       "4        Ed Sheeran - Perfect (Official Music Video)    Ed Sheeran   \n",
       "\n",
       "   category_id              publish_time  \\\n",
       "0           10  2017-11-10T17:00:03.000Z   \n",
       "1           23  2017-11-13T17:00:00.000Z   \n",
       "2           23  2017-11-12T19:05:24.000Z   \n",
       "3           24  2017-11-12T18:01:41.000Z   \n",
       "4           10  2017-11-09T11:04:14.000Z   \n",
       "\n",
       "                                                tags     views    likes  \\\n",
       "0  [Eminem, \"Walk\", \"On\", \"Water\", \"Aftermath/Sha...  17158579   787425   \n",
       "1  [plush, \"bad unboxing\", \"unboxing\", \"fan mail\"...   1014651   127794   \n",
       "2  [racist superman, \"rudy\", \"mancuso\", \"king\", \"...   3191434   146035   \n",
       "3  [ryan, \"higa\", \"higatv\", \"nigahiga\", \"i dare y...   2095828   132239   \n",
       "4  [edsheeran, \"ed sheeran\", \"acoustic\", \"live\", ...  33523622  1634130   \n",
       "\n",
       "   dislikes  comment_count                                  thumbnail_link  \\\n",
       "0     43420         125882  https://i.ytimg.com/vi/n1WpP7iowLc/default.jpg   \n",
       "1      1688          13030  https://i.ytimg.com/vi/0dBIkQ4Mz1M/default.jpg   \n",
       "2      5339           8181  https://i.ytimg.com/vi/5qpjK5DgCt4/default.jpg   \n",
       "3      1989          17518  https://i.ytimg.com/vi/d380meD0W0M/default.jpg   \n",
       "4     21082          85067  https://i.ytimg.com/vi/2Vv-BfVoq4g/default.jpg   \n",
       "\n",
       "   comments_disabled  ratings_disabled  video_error_or_removed  \\\n",
       "0              False             False                   False   \n",
       "1              False             False                   False   \n",
       "2              False             False                   False   \n",
       "3              False             False                   False   \n",
       "4              False             False                   False   \n",
       "\n",
       "                                         description  title_compound  \\\n",
       "0  Eminem's new track Walk on Water ft. Beyoncé i...          0.0000   \n",
       "1  STill got a lot of packages. Probably will las...         -0.2960   \n",
       "2  WATCH MY PREVIOUS VIDEO ▶ \\n\\nSUBSCRIBE ► http...         -0.6124   \n",
       "3  I know it's been a while since we did this sho...          0.0000   \n",
       "4  🎧: https://ad.gt/yt-perfect\\n💰: https://atlant...          0.5719   \n",
       "\n",
       "   description_compound                                    title_embedding  \\\n",
       "0                0.6369  [-6.27715364e-02 -4.63982113e-02  4.80195433e-...   \n",
       "1                0.7783  [-3.66311036e-02 -1.53107941e-03  1.10469095e-...   \n",
       "2                0.7365  [-1.01845309e-01 -2.69313413e-03 -1.27036691e-...   \n",
       "3                0.9290  [-2.44291220e-02  3.73215340e-02  6.12568110e-...   \n",
       "4                0.4404  [-1.84795614e-02  2.95374449e-03  1.03636540e-...   \n",
       "\n",
       "                               description_embedding  \n",
       "0  [-4.60728817e-02 -1.36562809e-01  6.22031689e-...  \n",
       "1  [-1.02790743e-01 -1.33693784e-01  4.12758850e-...  \n",
       "2  [-1.19398125e-01 -1.17875852e-01 -7.25160632e-...  \n",
       "3  [-1.42253369e-01 -2.20152866e-02 -6.84852079e-...  \n",
       "4  [-1.37768984e-01 -2.78132148e-02  4.75002490e-...  "
      ]
     },
     "execution_count": 17,
     "metadata": {},
     "output_type": "execute_result"
    }
   ],
   "source": [
    "df.head()"
   ]
  },
  {
   "cell_type": "code",
   "execution_count": null,
   "metadata": {},
   "outputs": [],
   "source": [
    "import pandas as pd\n",
    "import ast\n",
    "\n",
    "# read CSV\n",
    "df = pd.read_csv(\"CAVideos_with_embeddings.csv\")\n",
    "\n",
    "# Convert string embeddings to lists (restore to vectors)\n",
    "df['title_embedding'] = df['title_embedding'].apply(ast.literal_eval)\n",
    "df['description_embedding'] = df['description_embedding'].apply(ast.literal_eval)"
   ]
  }
 ],
 "metadata": {
  "language_info": {
   "name": "python"
  }
 },
 "nbformat": 4,
 "nbformat_minor": 2
}
