{
 "cells": [
  {
   "cell_type": "code",
   "execution_count": 0,
   "metadata": {
    "application/vnd.databricks.v1+cell": {
     "cellMetadata": {
      "byteLimit": 2048000,
      "rowLimit": 10000
     },
     "inputWidgets": {},
     "nuid": "1060dea1-956f-4025-a4b3-8990572fc7b5",
     "showTitle": false,
     "tableResultSettingsMap": {},
     "title": ""
    }
   },
   "outputs": [],
   "source": [
    "from pyspark.sql.functions import *\n",
    "from pyspark.sql.types import *"
   ]
  },
  {
   "cell_type": "code",
   "execution_count": 0,
   "metadata": {
    "application/vnd.databricks.v1+cell": {
     "cellMetadata": {
      "byteLimit": 2048000,
      "rowLimit": 10000
     },
     "inputWidgets": {},
     "nuid": "3275b571-d58b-480b-a57a-94c49447c51d",
     "showTitle": false,
     "tableResultSettingsMap": {},
     "title": ""
    }
   },
   "outputs": [
    {
     "output_type": "display_data",
     "data": {
      "text/html": [
       "<style scoped>\n",
       "  .table-result-container {\n",
       "    max-height: 300px;\n",
       "    overflow: auto;\n",
       "  }\n",
       "  table, th, td {\n",
       "    border: 1px solid black;\n",
       "    border-collapse: collapse;\n",
       "  }\n",
       "  th, td {\n",
       "    padding: 5px;\n",
       "  }\n",
       "  th {\n",
       "    text-align: left;\n",
       "  }\n",
       "</style><div class='table-result-container'><table class='table-result'><thead style='background-color: white'><tr><th>path</th><th>name</th><th>size</th><th>modificationTime</th></tr></thead><tbody><tr><td>dbfs:/mnt/bronze/products/</td><td>products/</td><td>0</td><td>0</td></tr></tbody></table></div>"
      ]
     },
     "metadata": {
      "application/vnd.databricks.v1+output": {
       "addedWidgets": {},
       "aggData": [],
       "aggError": "",
       "aggOverflow": false,
       "aggSchema": [],
       "aggSeriesLimitReached": false,
       "aggType": "",
       "arguments": {},
       "columnCustomDisplayInfos": {},
       "data": [
        [
         "dbfs:/mnt/bronze/products/",
         "products/",
         0,
         0
        ]
       ],
       "datasetInfos": [],
       "dbfsResultPath": null,
       "isJsonSchema": true,
       "metadata": {},
       "overflow": false,
       "plotOptions": {
        "customPlotOptions": {},
        "displayType": "table",
        "pivotAggregation": null,
        "pivotColumns": null,
        "xColumns": null,
        "yColumns": null
       },
       "removedWidgets": [],
       "schema": [
        {
         "metadata": "{}",
         "name": "path",
         "type": "\"string\""
        },
        {
         "metadata": "{}",
         "name": "name",
         "type": "\"string\""
        },
        {
         "metadata": "{}",
         "name": "size",
         "type": "\"long\""
        },
        {
         "metadata": "{}",
         "name": "modificationTime",
         "type": "\"long\""
        }
       ],
       "type": "table"
      }
     },
     "output_type": "display_data"
    }
   ],
   "source": [
    "# Define storage account and SAS token details\n",
    "storage_account_name = \"neudamgdatalakefinal\"\n",
    "sas_token = \"sp=racwdlmeop&st=2025-04-08T02:11:06Z&se=2025-04-22T10:11:06Z&spr=https&sv=2024-11-04&sr=c&sig=fKSOduoYxv7s7fHw5SszgkVL0XSQ2loQzqoy8gP12yY%3D\"\n",
    "container_name = \"bronze\"\n",
    "\n",
    "# Unmount the existing mount point if it exists\n",
    "try:\n",
    "    dbutils.fs.unmount(f\"/mnt/{container_name}\")\n",
    "except:\n",
    "    pass\n",
    "\n",
    "# Set up configuration\n",
    "dbutils.fs.mount(\n",
    "    source=f\"wasbs://{container_name}@{storage_account_name}.blob.core.windows.net\",\n",
    "    mount_point=f\"/mnt/{container_name}\",\n",
    "    extra_configs={\"fs.azure.sas.\"+container_name+\".\"+storage_account_name+\".blob.core.windows.net\": sas_token}\n",
    ")\n",
    "\n",
    "# Verify the mount\n",
    "display(dbutils.fs.ls(f\"/mnt/{container_name}\"))"
   ]
  },
  {
   "cell_type": "code",
   "execution_count": 0,
   "metadata": {
    "application/vnd.databricks.v1+cell": {
     "cellMetadata": {
      "byteLimit": 2048000,
      "rowLimit": 10000
     },
     "inputWidgets": {},
     "nuid": "4244ba6c-a3d7-4658-8e3c-a9ac9ad35dbd",
     "showTitle": false,
     "tableResultSettingsMap": {},
     "title": ""
    }
   },
   "outputs": [],
   "source": [
    "from pyspark.sql.functions import to_date, concat_ws, split\n",
    "\n",
    "df = df.withColumn(\"trending_date_parsed\",\n",
    "                   to_date(\n",
    "                       concat_ws(\"-\", \n",
    "                                 concat_ws(\"20\", split(\"trending_date\", \"\\\\.\")[0]),  # year → \"20\" + \"17\"\n",
    "                                 split(\"trending_date\", \"\\\\.\")[2],                  # month\n",
    "                                 split(\"trending_date\", \"\\\\.\")[1]                   # day\n",
    "                       ), \n",
    "                       \"yyyy-MM-dd\"\n",
    "                   ))\n",
    "\n"
   ]
  },
  {
   "cell_type": "code",
   "execution_count": 0,
   "metadata": {
    "application/vnd.databricks.v1+cell": {
     "cellMetadata": {
      "byteLimit": 2048000,
      "rowLimit": 10000
     },
     "inputWidgets": {},
     "nuid": "d7d6de0e-5e84-4fc7-b5b5-d4637158dcab",
     "showTitle": false,
     "tableResultSettingsMap": {},
     "title": ""
    }
   },
   "outputs": [
    {
     "output_type": "execute_result",
     "data": {
      "text/plain": [
       "True"
      ]
     },
     "execution_count": 7,
     "metadata": {},
     "output_type": "execute_result"
    }
   ],
   "source": [
    "# Define storage account and SAS token details\n",
    "storage_account_name = \"neudamgdatalakefinal\"\n",
    "sas_token = \"sp=racwdlmeop&st=2025-04-08T02:11:06Z&se=2025-04-22T10:11:06Z&spr=https&sv=2024-11-04&sr=c&sig=fKSOduoYxv7s7fHw5SszgkVL0XSQ2loQzqoy8gP12yY%3D\"\n",
    "container_name = \"silver\"\n",
    "\n",
    "# Unmount the existing mount point if it exists\n",
    "try:\n",
    "    dbutils.fs.unmount(f\"/mnt/{container_name}\")\n",
    "except:\n",
    "    pass\n",
    "\n",
    "# Set up configuration\n",
    "dbutils.fs.mount(\n",
    "    source=f\"wasbs://{container_name}@{storage_account_name}.blob.core.windows.net\",\n",
    "    mount_point=f\"/mnt/{container_name}\",\n",
    "    extra_configs={\n",
    "        f\"fs.azure.sas.{container_name}.{storage_account_name}.blob.core.windows.net\": sas_token\n",
    "    }\n",
    ")\n"
   ]
  },
  {
   "cell_type": "code",
   "execution_count": 0,
   "metadata": {
    "application/vnd.databricks.v1+cell": {
     "cellMetadata": {
      "byteLimit": 2048000,
      "rowLimit": 10000
     },
     "inputWidgets": {},
     "nuid": "bbc7e919-f522-4cbf-b6ba-79cdaf0b5a0d",
     "showTitle": false,
     "tableResultSettingsMap": {},
     "title": ""
    }
   },
   "outputs": [
    {
     "output_type": "stream",
     "name": "stdout",
     "output_type": "stream",
     "text": [
      "root\n |-- video_id: string (nullable = true)\n |-- trending_date: string (nullable = true)\n |-- title: string (nullable = true)\n |-- channel_title: string (nullable = true)\n |-- category_id: integer (nullable = true)\n |-- publish_time: timestamp (nullable = true)\n |-- tags: string (nullable = true)\n |-- views: double (nullable = true)\n |-- likes: double (nullable = true)\n |-- dislikes: double (nullable = true)\n |-- comment_count: double (nullable = true)\n |-- thumbnail_link: string (nullable = true)\n |-- comments_disabled: boolean (nullable = true)\n |-- ratings_disabled: boolean (nullable = true)\n |-- video_error_or_removed: boolean (nullable = true)\n |-- description: string (nullable = true)\n |-- title_compound: double (nullable = true)\n |-- description_compound: double (nullable = true)\n |-- category: string (nullable = true)\n |-- tag_count: integer (nullable = true)\n |-- category_encoded: integer (nullable = true)\n |-- trending_date_parsed: date (nullable = true)\n\n"
     ]
    }
   ],
   "source": [
    "df.printSchema()\n"
   ]
  },
  {
   "cell_type": "code",
   "execution_count": 0,
   "metadata": {
    "application/vnd.databricks.v1+cell": {
     "cellMetadata": {
      "byteLimit": 2048000,
      "rowLimit": 10000
     },
     "inputWidgets": {},
     "nuid": "419549bd-6291-4ef5-bfcf-7dd45ee5ae9e",
     "showTitle": false,
     "tableResultSettingsMap": {},
     "title": ""
    }
   },
   "outputs": [
    {
     "output_type": "stream",
     "name": "stdout",
     "output_type": "stream",
     "text": [
      "+-------------+-------------+-----------+---------+-------------+\n|trending_date|channel_title|views      |likes    |category     |\n+-------------+-------------+-----------+---------+-------------+\n|17.14.11     |EminemVEVO   |1.7158579E7|787425.0 |Music        |\n|17.14.11     |iDubbbzTV    |1014651.0  |127794.0 |Comedy       |\n|17.14.11     |Rudy Mancuso |3191434.0  |146035.0 |Comedy       |\n|17.14.11     |nigahiga     |2095828.0  |132239.0 |Entertainment|\n|17.14.11     |Ed Sheeran   |3.3523622E7|1634130.0|Music        |\n+-------------+-------------+-----------+---------+-------------+\nonly showing top 5 rows\n\n"
     ]
    }
   ],
   "source": [
    "df.select(\"trending_date\",  \"channel_title\", \"views\", \"likes\", \"category\").show(5, truncate=False)\n"
   ]
  },
  {
   "cell_type": "code",
   "execution_count": 0,
   "metadata": {
    "application/vnd.databricks.v1+cell": {
     "cellMetadata": {
      "byteLimit": 2048000,
      "rowLimit": 10000
     },
     "inputWidgets": {},
     "nuid": "3a1e3c76-6d09-49bb-8f12-f68f91baa0d4",
     "showTitle": false,
     "tableResultSettingsMap": {},
     "title": ""
    }
   },
   "outputs": [
    {
     "output_type": "display_data",
     "data": {
      "text/html": [
       "<style scoped>\n",
       "  .table-result-container {\n",
       "    max-height: 300px;\n",
       "    overflow: auto;\n",
       "  }\n",
       "  table, th, td {\n",
       "    border: 1px solid black;\n",
       "    border-collapse: collapse;\n",
       "  }\n",
       "  th, td {\n",
       "    padding: 5px;\n",
       "  }\n",
       "  th {\n",
       "    text-align: left;\n",
       "  }\n",
       "</style><div class='table-result-container'><table class='table-result'><thead style='background-color: white'><tr><th>path</th><th>name</th><th>size</th><th>modificationTime</th></tr></thead><tbody><tr><td>dbfs:/mnt/bronze/</td><td>bronze/</td><td>0</td><td>0</td></tr><tr><td>dbfs:/mnt/silver/</td><td>silver/</td><td>0</td><td>0</td></tr></tbody></table></div>"
      ]
     },
     "metadata": {
      "application/vnd.databricks.v1+output": {
       "addedWidgets": {},
       "aggData": [],
       "aggError": "",
       "aggOverflow": false,
       "aggSchema": [],
       "aggSeriesLimitReached": false,
       "aggType": "",
       "arguments": {},
       "columnCustomDisplayInfos": {},
       "data": [
        [
         "dbfs:/mnt/bronze/",
         "bronze/",
         0,
         0
        ],
        [
         "dbfs:/mnt/silver/",
         "silver/",
         0,
         0
        ]
       ],
       "datasetInfos": [],
       "dbfsResultPath": null,
       "isJsonSchema": true,
       "metadata": {},
       "overflow": false,
       "plotOptions": {
        "customPlotOptions": {},
        "displayType": "table",
        "pivotAggregation": null,
        "pivotColumns": null,
        "xColumns": null,
        "yColumns": null
       },
       "removedWidgets": [],
       "schema": [
        {
         "metadata": "{}",
         "name": "path",
         "type": "\"string\""
        },
        {
         "metadata": "{}",
         "name": "name",
         "type": "\"string\""
        },
        {
         "metadata": "{}",
         "name": "size",
         "type": "\"long\""
        },
        {
         "metadata": "{}",
         "name": "modificationTime",
         "type": "\"long\""
        }
       ],
       "type": "table"
      }
     },
     "output_type": "display_data"
    }
   ],
   "source": [
    "display(dbutils.fs.ls(\"/mnt\"))\n"
   ]
  },
  {
   "cell_type": "code",
   "execution_count": 0,
   "metadata": {
    "application/vnd.databricks.v1+cell": {
     "cellMetadata": {
      "byteLimit": 2048000,
      "rowLimit": 10000
     },
     "inputWidgets": {},
     "nuid": "536eb931-00a5-4658-b51a-dc67cf02cc67",
     "showTitle": false,
     "tableResultSettingsMap": {},
     "title": ""
    }
   },
   "outputs": [
    {
     "output_type": "stream",
     "name": "stdout",
     "output_type": "stream",
     "text": [
      "/mnt/silver has been unmounted.\n"
     ]
    },
    {
     "output_type": "execute_result",
     "data": {
      "text/plain": [
       "True"
      ]
     },
     "execution_count": 43,
     "metadata": {},
     "output_type": "execute_result"
    }
   ],
   "source": [
    "storage_account_name = \"neudamgdatalakefinal\"\n",
    "container_name = \"silver\"\n",
    "sas_token = \"sp=racwdlmeop&st=2025-04-08T02:37:42Z&se=2025-04-22T10:37:42Z&spr=https&sv=2024-11-04&sr=c&sig=Gm0Pm7m3Es58UaZFZAgZKxC2DEQQqJvTIWpnNF3UV6s%3D\"  # 用你新生成的替换\n",
    "\n",
    "# 卸载旧挂载\n",
    "try:\n",
    "    dbutils.fs.unmount(\"/mnt/silver\")\n",
    "except:\n",
    "    pass\n",
    "\n",
    "# 挂载\n",
    "dbutils.fs.mount(\n",
    "    source = f\"wasbs://{container_name}@{storage_account_name}.blob.core.windows.net\",\n",
    "    mount_point = f\"/mnt/{container_name}\",\n",
    "    extra_configs = {\n",
    "        f\"fs.azure.sas.{container_name}.{storage_account_name}.blob.core.windows.net\": sas_token\n",
    "    }\n",
    ")\n"
   ]
  },
  {
   "cell_type": "code",
   "execution_count": 0,
   "metadata": {
    "application/vnd.databricks.v1+cell": {
     "cellMetadata": {},
     "inputWidgets": {},
     "nuid": "8212d69a-efc0-4a37-b1d1-cbc11d7bd3e4",
     "showTitle": false,
     "tableResultSettingsMap": {},
     "title": ""
    }
   },
   "outputs": [],
   "source": []
  },
  {
   "cell_type": "code",
   "execution_count": 0,
   "metadata": {
    "application/vnd.databricks.v1+cell": {
     "cellMetadata": {
      "byteLimit": 2048000,
      "rowLimit": 10000
     },
     "inputWidgets": {},
     "nuid": "d3d1ce07-87d4-4b93-a809-f83857929b06",
     "showTitle": false,
     "tableResultSettingsMap": {},
     "title": ""
    }
   },
   "outputs": [],
   "source": [
    "df.select(\"title\", \"channel_title\", \"views\", \"likes\") \\\n",
    "  .write.format(\"parquet\") \\\n",
    "  .mode(\"overwrite\") \\\n",
    "  .save(\"/mnt/silver/CAvideos\")\n",
    "\n"
   ]
  },
  {
   "cell_type": "code",
   "execution_count": 0,
   "metadata": {
    "application/vnd.databricks.v1+cell": {
     "cellMetadata": {
      "byteLimit": 2048000,
      "rowLimit": 10000
     },
     "inputWidgets": {},
     "nuid": "bee091ce-f9f4-4c38-99c9-97094572b45d",
     "showTitle": false,
     "tableResultSettingsMap": {},
     "title": ""
    }
   },
   "outputs": [
    {
     "output_type": "execute_result",
     "data": {
      "text/plain": [
       "40812"
      ]
     },
     "execution_count": 38,
     "metadata": {},
     "output_type": "execute_result"
    }
   ],
   "source": [
    "df.count()\n",
    "\n"
   ]
  },
  {
   "cell_type": "code",
   "execution_count": 0,
   "metadata": {
    "application/vnd.databricks.v1+cell": {
     "cellMetadata": {
      "byteLimit": 2048000,
      "rowLimit": 10000
     },
     "inputWidgets": {},
     "nuid": "75009006-4e5d-4588-afab-1e85287fdd6c",
     "showTitle": false,
     "tableResultSettingsMap": {},
     "title": ""
    }
   },
   "outputs": [],
   "source": [
    "df.select(\"title\", \"channel_title\", \"views\", \"likes\").write.format(\"parquet\") \\\n",
    "  .mode(\"overwrite\") \\\n",
    "  .save(\"/dbfs/tmp/test_simple\")\n"
   ]
  },
  {
   "cell_type": "code",
   "execution_count": 0,
   "metadata": {
    "application/vnd.databricks.v1+cell": {
     "cellMetadata": {
      "byteLimit": 2048000,
      "rowLimit": 10000
     },
     "inputWidgets": {},
     "nuid": "3997663c-da95-40d6-8c75-40962c2563c1",
     "showTitle": false,
     "tableResultSettingsMap": {},
     "title": ""
    }
   },
   "outputs": [],
   "source": [
    "df.select(\n",
    "    \"title\",\n",
    "    \"channel_title\",\n",
    "    \"views\",\n",
    "    \"likes\",\n",
    "    \"dislikes\",\n",
    "    \"trending_date\",         # 若你之前已经转成 DateType 可以替换成 trending_date_parsed\n",
    "    \"title_compound\",\n",
    "    \"description_compound\"   # 如果你也想加这列\n",
    ").write.format(\"parquet\") \\\n",
    " .mode(\"overwrite\") \\\n",
    " .save(\"/dbfs/tmp/test_extended\")\n"
   ]
  },
  {
   "cell_type": "code",
   "execution_count": 0,
   "metadata": {
    "application/vnd.databricks.v1+cell": {
     "cellMetadata": {
      "byteLimit": 2048000,
      "rowLimit": 10000
     },
     "inputWidgets": {},
     "nuid": "d9cb9e49-96b5-4936-bac9-8b75bda2e45c",
     "showTitle": false,
     "tableResultSettingsMap": {},
     "title": ""
    }
   },
   "outputs": [],
   "source": [
    "df.select(\"title\", \"channel_title\", \"views\", \"likes\",\"dislikes\", \"trending_date\",\"title_compound\",\n",
    "    \"description_compound) \\\n",
    "  .write.format(\"parquet\") \\\n",
    "  .mode(\"overwrite\") \\\n",
    "  .save(\"/mnt/silver/CAvideos\")"
   ]
  }
 ],
 "metadata": {
  "application/vnd.databricks.v1+notebook": {
   "computePreferences": null,
   "dashboards": [],
   "environmentMetadata": {
    "base_environment": "",
    "environment_version": "2"
   },
   "inputWidgetPreferences": null,
   "language": "python",
   "notebookMetadata": {
    "pythonIndentUnit": 4
   },
   "notebookName": "Silver_layer",
   "widgets": {}
  },
  "language_info": {
   "name": "python"
  }
 },
 "nbformat": 4,
 "nbformat_minor": 0
}